{
 "cells": [
  {
   "cell_type": "markdown",
   "source": [
    "### Импортирование модуля "
   ],
   "metadata": {
    "collapsed": false
   },
   "id": "b90160479c814238"
  },
  {
   "cell_type": "code",
   "outputs": [],
   "source": [
    "import ezdxf\n",
    "\n",
    "# Считывание DXF-документа `filename` из файловой системы.\n",
    "dxf = ezdxf.readfile('data/f.dxf')"
   ],
   "metadata": {
    "collapsed": false,
    "ExecuteTime": {
     "end_time": "2024-02-22T05:44:39.371158400Z",
     "start_time": "2024-02-22T05:44:39.361357900Z"
    }
   },
   "id": "1d06eb19177744b3",
   "execution_count": 3
  },
  {
   "cell_type": "code",
   "outputs": [],
   "source": [
    "# Возвращает макет пространства модели, отображаемый как \"Модель\". Вкладка в CAD-приложениях, определяемая записью блока с именем \"*Model_Space\".\n",
    "models = dxf.modelspace()"
   ],
   "metadata": {
    "collapsed": false,
    "ExecuteTime": {
     "end_time": "2024-02-22T05:44:49.840859Z",
     "start_time": "2024-02-22T05:44:49.838347800Z"
    }
   },
   "id": "4b3d927e5a154f97",
   "execution_count": 5
  },
  {
   "cell_type": "code",
   "outputs": [
    {
     "name": "stdout",
     "output_type": "stream",
     "text": [
      "(889.0, 71.0, 0.0)\n",
      "(960.0, -1.17562209966948e-13, 0.0)\n",
      "(889.0, 71.0, 0.0)\n",
      "(71.0, 71.0, 0.0)\n",
      "(71.0, 71.0, 0.0)\n",
      "(0.0, 0.0, 0.0)\n",
      "(71.0, 71.0, 0.0)\n",
      "(71.0, 1989.0, 0.0)\n",
      "(71.0, 1989.0, 0.0)\n",
      "(1.26134454443705e-13, 2060.0, 0.0)\n",
      "(71.0, 1989.0, 0.0)\n",
      "(889.0, 1989.0, 0.0)\n",
      "(889.0, 1989.0, 0.0)\n",
      "(960.0, 2060.0, 0.0)\n",
      "(889.0, 1989.0, 0.0)\n",
      "(889.0, 71.0, 0.0)\n",
      "(137.0, 900.25, 0.0)\n",
      "(137.0, 981.75, 0.0)\n",
      "(137.0, 900.25, 0.0)\n",
      "(823.0, 900.25, 0.0)\n",
      "(800.0, 160.0, 0.0)\n",
      "(919.0, 41.0, 0.0)\n",
      "(800.0, 160.0, 0.0)\n",
      "(160.0, 160.0, 0.0)\n",
      "(160.0, 160.0, 0.0)\n",
      "(41.0, 41.0, 0.0)\n",
      "(160.0, 160.0, 0.0)\n",
      "(160.0, 1900.0, 0.0)\n",
      "(160.0, 1900.0, 0.0)\n",
      "(41.0, 2019.0, 0.0)\n",
      "(160.0, 1900.0, 0.0)\n",
      "(800.0, 1900.0, 0.0)\n",
      "(800.0, 1900.0, 0.0)\n",
      "(919.0, 2019.0, 0.0)\n",
      "(800.0, 1900.0, 0.0)\n",
      "(800.0, 160.0, 0.0)\n",
      "(142.0, 915.25, 0.0)\n",
      "(818.0, 915.25, 0.0)\n",
      "(818.0, 142.0, 0.0)\n",
      "(142.0, 142.0, 0.0)\n",
      "(818.0, 966.75, 0.0)\n",
      "(142.0, 966.75, 0.0)\n",
      "(142.0, 1918.0, 0.0)\n",
      "(818.0, 1918.0, 0.0)\n"
     ]
    }
   ],
   "source": [
    "for e in models:\n",
    "    print(e.dxf.start)"
   ],
   "metadata": {
    "collapsed": false,
    "ExecuteTime": {
     "end_time": "2024-02-22T05:52:53.545164900Z",
     "start_time": "2024-02-22T05:52:53.534214200Z"
    }
   },
   "id": "58813f7017d2f019",
   "execution_count": 16
  },
  {
   "cell_type": "code",
   "outputs": [],
   "source": [
    "from glassunit import GlassUnit"
   ],
   "metadata": {
    "collapsed": false,
    "ExecuteTime": {
     "end_time": "2024-02-22T08:33:04.425642600Z",
     "start_time": "2024-02-22T08:33:04.422141300Z"
    }
   },
   "id": "f7a0ac02ad715e50",
   "execution_count": 65
  },
  {
   "cell_type": "code",
   "outputs": [
    {
     "ename": "TypeError",
     "evalue": "GlassUnit.__init__() missing 2 required positional arguments: 'width' and 'height'",
     "output_type": "error",
     "traceback": [
      "\u001B[1;31m---------------------------------------------------------------------------\u001B[0m",
      "\u001B[1;31mTypeError\u001B[0m                                 Traceback (most recent call last)",
      "Cell \u001B[1;32mIn[67], line 1\u001B[0m\n\u001B[1;32m----> 1\u001B[0m glass_unit \u001B[38;5;241m=\u001B[39m \u001B[43mGlassUnit\u001B[49m\u001B[43m(\u001B[49m\u001B[43m)\u001B[49m\n",
      "\u001B[1;31mTypeError\u001B[0m: GlassUnit.__init__() missing 2 required positional arguments: 'width' and 'height'"
     ]
    }
   ],
   "source": [
    "\n",
    "glass_unit = GlassUnit()\n"
   ],
   "metadata": {
    "collapsed": false,
    "ExecuteTime": {
     "end_time": "2024-02-22T08:33:14.592427200Z",
     "start_time": "2024-02-22T08:33:14.578096Z"
    }
   },
   "id": "accc8c28e67b5646",
   "execution_count": 67
  },
  {
   "cell_type": "code",
   "outputs": [],
   "source": [],
   "metadata": {
    "collapsed": false
   },
   "id": "7a0098f57f4864e2"
  }
 ],
 "metadata": {
  "kernelspec": {
   "display_name": "Python 3",
   "language": "python",
   "name": "python3"
  },
  "language_info": {
   "codemirror_mode": {
    "name": "ipython",
    "version": 2
   },
   "file_extension": ".py",
   "mimetype": "text/x-python",
   "name": "python",
   "nbconvert_exporter": "python",
   "pygments_lexer": "ipython2",
   "version": "2.7.6"
  }
 },
 "nbformat": 4,
 "nbformat_minor": 5
}
