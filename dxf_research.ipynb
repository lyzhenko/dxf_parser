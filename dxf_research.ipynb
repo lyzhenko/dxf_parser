{
 "cells": [
  {
   "cell_type": "code",
   "outputs": [],
   "source": [
    "import ezdxf\n",
    "\n",
    "dxf = ezdxf.readfile('f.dxf')"
   ],
   "metadata": {
    "collapsed": false
   },
   "id": "1d06eb19177744b3"
  }
 ],
 "metadata": {
  "kernelspec": {
   "display_name": "Python 3",
   "language": "python",
   "name": "python3"
  },
  "language_info": {
   "codemirror_mode": {
    "name": "ipython",
    "version": 2
   },
   "file_extension": ".py",
   "mimetype": "text/x-python",
   "name": "python",
   "nbconvert_exporter": "python",
   "pygments_lexer": "ipython2",
   "version": "2.7.6"
  }
 },
 "nbformat": 4,
 "nbformat_minor": 5
}
